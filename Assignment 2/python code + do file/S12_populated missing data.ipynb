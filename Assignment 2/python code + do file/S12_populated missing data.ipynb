{
 "cells": [
  {
   "cell_type": "markdown",
   "metadata": {},
   "source": [
    "# This ipynb's function is to interpolate missing quarters between 1997 to 2007. Quarters with 3 consecutive missing periods will be ignored. Quarters after 2004-06-30 will be ignored."
   ]
  },
  {
   "cell_type": "code",
   "execution_count": null,
   "metadata": {},
   "outputs": [],
   "source": [
    "import pandas as pd\n",
    "from tqdm.notebook import tqdm\n",
    "from joblib import Parallel, delayed\n",
    "import multiprocessing"
   ]
  },
  {
   "cell_type": "code",
   "execution_count": null,
   "metadata": {},
   "outputs": [],
   "source": [
    "data = pd.read_stata(\"S12.dta\")"
   ]
  },
  {
   "cell_type": "code",
   "execution_count": null,
   "metadata": {},
   "outputs": [],
   "source": [
    "df = data"
   ]
  },
  {
   "cell_type": "code",
   "execution_count": null,
   "metadata": {},
   "outputs": [],
   "source": [
    "# export all fund number and all quarters between 1997-2007\n",
    "fund_no = df[\"fundno\"].unique().tolist()\n",
    "quarters = pd.date_range(start='1997-03-31', end='2007-12-31', freq='Q')\n",
    "\n",
    "# interpolate data process and store in res\n",
    "def add_value(_data,fundno,quat):\n",
    "    result = []\n",
    "    _fund = _data[_data[\"fundno\"]==fundno]\n",
    "    for cusip in _fund[\"cusip\"].unique().tolist():\n",
    "        _res = interprolate_fund(_fund, cusip, quat)\n",
    "        result.append(_res)\n",
    "    result = pd.concat(result)\n",
    "    res.append(result)\n",
    "    return result\n",
    "\n",
    "# interpolate data by cusip\n",
    "def interprolate_fund(fund, cusip, quarter):\n",
    "    final_df = fund[fund['cusip'] == cusip]\n",
    "    final_df = final_df.set_index(\"fdate\").reindex(quarter)\n",
    "    final_df[\"cusip_nan\"] = final_df[\"cusip\"].isna().astype(int)\n",
    "    final_df[final_df.index > '2004-06-31']['cusip_nan'] =1\n",
    "    final_df = final_df.interpolate(\"pad\").reset_index()\n",
    "    final_df = remove_consecutive_rows(final_df)\n",
    "    return final_df.dropna(how = \"any\", inplace = True)\n",
    "\n",
    "# remove the value added if there are consecutive 3 rows that are added\n",
    "def remove_consecutive_rows(df):\n",
    "    consecutive_count = 0\n",
    "    rows_to_remove = []\n",
    "    \n",
    "    for index, row in df.iterrows():\n",
    "        if row['cusip_nan'] == 1:\n",
    "            consecutive_count += 1\n",
    "        else:\n",
    "            consecutive_count = 0\n",
    "            \n",
    "        if consecutive_count >= 3:\n",
    "            rows_to_remove.extend(range(index - consecutive_count + 1, index + 1))\n",
    "    \n",
    "    df_cleaned = df.drop(rows_to_remove)\n",
    "    return df_cleaned\n",
    "\n",
    "# parallel processing, depends on cpu\n",
    "res = []\n",
    "cpus = multiprocessing.cpu_count()\n",
    "print(cpus)\n",
    "Parallel(n_jobs = 4)(delayed(add_value)(df, id, quarters) for id in tqdm(fund_no))\n",
    "\n",
    "res = pd.concat(res)\n",
    "res.to_stata(\"S12_screened.dta\", version = 119)"
   ]
  }
 ],
 "metadata": {
  "kernelspec": {
   "display_name": "Python 3 (ipykernel)",
   "language": "python",
   "name": "python3"
  },
  "language_info": {
   "codemirror_mode": {
    "name": "ipython",
    "version": 3
   },
   "file_extension": ".py",
   "mimetype": "text/x-python",
   "name": "python",
   "nbconvert_exporter": "python",
   "pygments_lexer": "ipython3",
   "version": "3.11.5"
  }
 },
 "nbformat": 4,
 "nbformat_minor": 2
}
